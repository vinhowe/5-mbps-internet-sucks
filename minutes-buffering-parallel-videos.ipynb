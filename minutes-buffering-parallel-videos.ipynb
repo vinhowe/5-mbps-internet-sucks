{
 "cells": [
  {
   "cell_type": "markdown",
   "metadata": {},
   "source": [
    "# Test 1: Minutes spent buffering for streaming videos in parallel"
   ]
  },
  {
   "cell_type": "code",
   "execution_count": 1,
   "metadata": {},
   "outputs": [],
   "source": [
    "import requests\n",
    "import sys\n",
    "import time\n",
    "import numpy as np\n",
    "import ipywidgets as widgets\n",
    "from multiprocessing import Process, Queue\n",
    "from queue import Empty"
   ]
  },
  {
   "cell_type": "markdown",
   "metadata": {},
   "source": [
    "## Analysis"
   ]
  },
  {
   "cell_type": "markdown",
   "metadata": {},
   "source": [
    "We'll look at the [Big Buck Bunny](https://peach.blender.org/) film, which is about 10m 30s long, resolution 1920x1080, at 30 frames per second. I chose to host it at BYU because it's close to me:"
   ]
  },
  {
   "cell_type": "code",
   "execution_count": 2,
   "metadata": {},
   "outputs": [],
   "source": [
    "test_url = \"https://students.cs.byu.edu/~th443/bbb.mp4\""
   ]
  },
  {
   "cell_type": "markdown",
   "metadata": {},
   "source": [
    "Download the video once:"
   ]
  },
  {
   "cell_type": "code",
   "execution_count": 3,
   "metadata": {},
   "outputs": [],
   "source": [
    "# !wget 'https://students.cs.byu.edu/~th443/bbb.mp4'"
   ]
  },
  {
   "cell_type": "markdown",
   "metadata": {},
   "source": [
    "We'll determine how many individual frames are in this video.\n",
    "\n",
    "Nice one-liner from https://stackoverflow.com/questions/2017843/fetch-frame-count-with-ffmpeg:"
   ]
  },
  {
   "cell_type": "code",
   "execution_count": 4,
   "metadata": {},
   "outputs": [
    {
     "name": "stdout",
     "output_type": "stream",
     "text": [
      "19036\r\n"
     ]
    }
   ],
   "source": [
    "# !ffprobe -v error -select_streams v:0 -show_entries stream=nb_frames -of default=nokey=1:noprint_wrappers=1 -ignore_editlist 1 bbb.mp4"
   ]
  },
  {
   "cell_type": "code",
   "execution_count": 5,
   "metadata": {},
   "outputs": [],
   "source": [
    "frame_count = 19036"
   ]
  },
  {
   "cell_type": "code",
   "execution_count": 6,
   "metadata": {},
   "outputs": [],
   "source": [
    "fps = 30"
   ]
  },
  {
   "cell_type": "code",
   "execution_count": 7,
   "metadata": {},
   "outputs": [
    {
     "data": {
      "text/plain": [
       "10.575555555555555"
      ]
     },
     "execution_count": 7,
     "metadata": {},
     "output_type": "execute_result"
    }
   ],
   "source": [
    "minutes = frame_count / fps / 60\n",
    "minutes"
   ]
  },
  {
   "cell_type": "markdown",
   "metadata": {},
   "source": [
    "We'll find out how many bytes are in our version of Big Buck Bunny:"
   ]
  },
  {
   "cell_type": "code",
   "execution_count": 8,
   "metadata": {},
   "outputs": [
    {
     "name": "stdout",
     "output_type": "stream",
     "text": [
      "276134947 bbb.mp4\r\n"
     ]
    }
   ],
   "source": [
    "!wc -c bbb.mp4"
   ]
  },
  {
   "cell_type": "markdown",
   "metadata": {},
   "source": [
    "`mb_count` represents the size of our video in megabytes (MB). A megabyte contains 1000000 (1E+6) bytes:"
   ]
  },
  {
   "cell_type": "code",
   "execution_count": 9,
   "metadata": {},
   "outputs": [],
   "source": [
    "mb_count = 276134947 / (1e+6)"
   ]
  },
  {
   "cell_type": "markdown",
   "metadata": {},
   "source": [
    "`frame_size` represents the average MB size of a frame of our video:"
   ]
  },
  {
   "cell_type": "code",
   "execution_count": 10,
   "metadata": {},
   "outputs": [
    {
     "data": {
      "text/plain": [
       "0.01450593333683547"
      ]
     },
     "execution_count": 10,
     "metadata": {},
     "output_type": "execute_result"
    }
   ],
   "source": [
    "frame_size = mb_count / frame_count\n",
    "frame_size"
   ]
  },
  {
   "cell_type": "markdown",
   "metadata": {},
   "source": [
    "`second_size` represents the average MB size of a second (MB/s) at 30 FPS--the minimum MB/s required for smooth playback:"
   ]
  },
  {
   "cell_type": "code",
   "execution_count": 11,
   "metadata": {},
   "outputs": [
    {
     "data": {
      "text/plain": [
       "0.4351780001050641"
      ]
     },
     "execution_count": 11,
     "metadata": {},
     "output_type": "execute_result"
    }
   ],
   "source": [
    "second_size = frame_size * fps\n",
    "second_size"
   ]
  },
  {
   "cell_type": "markdown",
   "metadata": {},
   "source": [
    "Internet speed is usually measured in _megabits_ per second (Mb/s). Note that megabyte is shortened to 'MB,' but megabit is written as 'Mb'. A megabyte is 8 megabits:"
   ]
  },
  {
   "cell_type": "code",
   "execution_count": 12,
   "metadata": {},
   "outputs": [
    {
     "data": {
      "text/plain": [
       "3.4814240008405126"
      ]
     },
     "execution_count": 12,
     "metadata": {},
     "output_type": "execute_result"
    }
   ],
   "source": [
    "second_megabit_size = second_size * 8\n",
    "second_megabit_size"
   ]
  },
  {
   "cell_type": "markdown",
   "metadata": {},
   "source": [
    "**Internet speed is like a pipe.**\n",
    "\n",
    "In an ideal world, a file that is 10 megabytes--80 megabits--would take 8 seconds to load on a 10 Mb/s network. So if every second of a video is 5 megabits, it should be able to \"fit\" through a 5 Mb/s network connection every second without buffering."
   ]
  },
  {
   "cell_type": "code",
   "execution_count": 13,
   "metadata": {},
   "outputs": [],
   "source": [
    "process_count = 3"
   ]
  },
  {
   "cell_type": "markdown",
   "metadata": {},
   "source": [
    "**What happens when we try to shove three videos down one network pipe?**\n",
    "\n",
    "Our test video is around 3.5 Mb/s, and our test network speed _should_ be 5 Mb/s. Streaming three videos at the same time is just like streaming one big video with all of their sizes combined:"
   ]
  },
  {
   "cell_type": "code",
   "execution_count": 14,
   "metadata": {},
   "outputs": [
    {
     "data": {
      "text/plain": [
       "10.4"
      ]
     },
     "execution_count": 14,
     "metadata": {},
     "output_type": "execute_result"
    }
   ],
   "source": [
    "combined_second_megabit_size = round(second_megabit_size * process_count, 1)\n",
    "combined_second_megabit_size"
   ]
  },
  {
   "cell_type": "markdown",
   "metadata": {},
   "source": [
    "With a combined size of around 10.4 Mb/s and a network \"pipe size\" of 5 Mb/s, **each of our videos should take around twice as long to download**.\n",
    "\n",
    "What does this mean for streaming? If our 12 minute video takes 24 minutes to download, **it will spend around 12 minutes buffering**. Let's put this to the test."
   ]
  },
  {
   "cell_type": "markdown",
   "metadata": {},
   "source": [
    "## Testing"
   ]
  },
  {
   "cell_type": "code",
   "execution_count": 15,
   "metadata": {},
   "outputs": [],
   "source": [
    "mbps_queue = Queue()\n",
    "mbps_percent_queue = Queue()\n",
    "\n",
    "def download_measure(i):\n",
    "    global mbps_list\n",
    "    response = requests.get(test_url, stream=True)\n",
    "    total_length = response.headers.get('content-length')\n",
    "\n",
    "    start = time.time()\n",
    "    dl = 0\n",
    "    total_length = int(total_length)\n",
    "    last_print_time = 0\n",
    "    for data in response.iter_content(chunk_size=1024):\n",
    "        dl += len(data)\n",
    "        done = int(50 * dl / total_length)\n",
    "        dl_mb = dl/(1e+6)\n",
    "        if time.time() - last_print_time > 0.2:\n",
    "            last_print_time = time.time()\n",
    "            mbps_percent_queue.put((i, dl/total_length))\n",
    "        \n",
    "    elapsed = time.time() - start\n",
    "    mbps_queue.put((total_length/1e+6)/elapsed)"
   ]
  },
  {
   "cell_type": "code",
   "execution_count": 16,
   "metadata": {},
   "outputs": [],
   "source": [
    "processes = [Process(target=download_measure, args=(i,)) for i in range(process_count)]"
   ]
  },
  {
   "cell_type": "code",
   "execution_count": 17,
   "metadata": {},
   "outputs": [],
   "source": [
    "progress_bars = [widgets.FloatProgress(\n",
    "                        value=0,\n",
    "                        min=0,\n",
    "                        max=1,\n",
    "                        step=0.1,\n",
    "                        description=f'{i} (0%):',\n",
    "                        bar_style='info',\n",
    "                        orientation='horizontal'\n",
    "                     )\n",
    "                    for i in range(process_count)\n",
    "                ]"
   ]
  },
  {
   "cell_type": "code",
   "execution_count": 18,
   "metadata": {},
   "outputs": [],
   "source": [
    "def print_progress(): \n",
    "    try:\n",
    "        progress_outputs = sorted([mbps_percent_queue.get(timeout=.2) for _ in processes], key=lambda a: a[0] if a else 0)\n",
    "        for p in filter(lambda p: p, progress_outputs):\n",
    "            progress_bars[p[0]].value = p[1]\n",
    "            progress_bars[p[0]].description = f\"{p[0]} ({'{:.2f}'.format(round(p[1] * 10000)/100)}%)\"\n",
    "    except Empty:\n",
    "        pass"
   ]
  },
  {
   "cell_type": "code",
   "execution_count": 19,
   "metadata": {},
   "outputs": [
    {
     "data": {
      "application/vnd.jupyter.widget-view+json": {
       "model_id": "0b4d9a3a77494bb4877cdecce0e662f5",
       "version_major": 2,
       "version_minor": 0
      },
      "text/plain": [
       "FloatProgress(value=0.0, bar_style='info', description='0 (0%):', max=1.0)"
      ]
     },
     "metadata": {},
     "output_type": "display_data"
    },
    {
     "data": {
      "application/vnd.jupyter.widget-view+json": {
       "model_id": "c77347788980435c8d1586756faf1aa1",
       "version_major": 2,
       "version_minor": 0
      },
      "text/plain": [
       "FloatProgress(value=0.0, bar_style='info', description='1 (0%):', max=1.0)"
      ]
     },
     "metadata": {},
     "output_type": "display_data"
    },
    {
     "data": {
      "application/vnd.jupyter.widget-view+json": {
       "model_id": "1f665d73a21f4b9f85dae9c61b0410e8",
       "version_major": 2,
       "version_minor": 0
      },
      "text/plain": [
       "FloatProgress(value=0.0, bar_style='info', description='2 (0%):', max=1.0)"
      ]
     },
     "metadata": {},
     "output_type": "display_data"
    }
   ],
   "source": [
    "for p in processes:\n",
    "    p.start()\n",
    "\n",
    "[display(b) for b in progress_bars]\n",
    "    \n",
    "while True in [p.is_alive() for p in processes]:\n",
    "    print_progress()"
   ]
  },
  {
   "cell_type": "code",
   "execution_count": 20,
   "metadata": {},
   "outputs": [
    {
     "data": {
      "text/plain": [
       "[0.13598948444100742, 0.13490805119851562, 0.1334723657972683]"
      ]
     },
     "execution_count": 20,
     "metadata": {},
     "output_type": "execute_result"
    }
   ],
   "source": [
    "mbps_averages = [mbps_queue.get() for p in processes]\n",
    "mbps_averages"
   ]
  },
  {
   "cell_type": "code",
   "execution_count": 21,
   "metadata": {},
   "outputs": [
    {
     "data": {
      "text/plain": [
       "0.1347899671455971"
      ]
     },
     "execution_count": 21,
     "metadata": {},
     "output_type": "execute_result"
    }
   ],
   "source": [
    "mbps_average = np.average(mbps_averages)\n",
    "mbps_average"
   ]
  },
  {
   "cell_type": "code",
   "execution_count": 22,
   "metadata": {},
   "outputs": [
    {
     "data": {
      "text/plain": [
       "3.228563737499799"
      ]
     },
     "execution_count": 22,
     "metadata": {},
     "output_type": "execute_result"
    }
   ],
   "source": [
    "relative_length_ratio = second_size / mbps_average\n",
    "relative_length_ratio"
   ]
  },
  {
   "cell_type": "code",
   "execution_count": 23,
   "metadata": {},
   "outputs": [
    {
     "data": {
      "text/plain": [
       "2.228563737499799"
      ]
     },
     "execution_count": 23,
     "metadata": {},
     "output_type": "execute_result"
    }
   ],
   "source": [
    "extra_length_proportion = relative_length_ratio - 1\n",
    "extra_length_proportion"
   ]
  },
  {
   "cell_type": "code",
   "execution_count": 24,
   "metadata": {},
   "outputs": [
    {
     "data": {
      "text/plain": [
       "23.6"
      ]
     },
     "execution_count": 24,
     "metadata": {},
     "output_type": "execute_result"
    }
   ],
   "source": [
    "minutes_spent_buffering = round(extra_length_proportion * minutes, 1)\n",
    "minutes_spent_buffering"
   ]
  },
  {
   "cell_type": "markdown",
   "metadata": {},
   "source": [
    "## Conclusion"
   ]
  },
  {
   "cell_type": "markdown",
   "metadata": {},
   "source": [
    "We got ~24 minutes of buffering for a 12 minute video. _If this is accurate,_ a viewer of any one of the three videos would spend, on average, just about twice as much time as the length of the original video just waiting for it to load.\n",
    "\n",
    "**Consider paying for internet.**"
   ]
  },
  {
   "cell_type": "markdown",
   "metadata": {},
   "source": [
    "### Potential improvements:\n",
    "\n",
    "- Find multiple different video sources with different latencies, throughputs, and bitrates\n",
    "- Figure out how to do this test continuously"
   ]
  }
 ],
 "metadata": {
  "kernelspec": {
   "display_name": "Python 3",
   "language": "python",
   "name": "python3"
  },
  "language_info": {
   "codemirror_mode": {
    "name": "ipython",
    "version": 3
   },
   "file_extension": ".py",
   "mimetype": "text/x-python",
   "name": "python",
   "nbconvert_exporter": "python",
   "pygments_lexer": "ipython3",
   "version": "3.7.5"
  }
 },
 "nbformat": 4,
 "nbformat_minor": 4
}
