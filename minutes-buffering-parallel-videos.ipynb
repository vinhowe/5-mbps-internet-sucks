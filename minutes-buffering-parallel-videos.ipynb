{
 "cells": [
  {
   "cell_type": "code",
   "execution_count": 1,
   "metadata": {},
   "outputs": [],
   "source": [
    "import requests\n",
    "import sys\n",
    "import time\n",
    "import numpy as np\n",
    "import ipywidgets as widgets\n",
    "from multiprocessing import Process, Queue\n",
    "from queue import Empty"
   ]
  },
  {
   "cell_type": "markdown",
   "metadata": {},
   "source": [
    "This version of Big Buck Bunny is 12 min @ 1080p/30. I choose to host it at BYU because that's where ping time should be lowest for me."
   ]
  },
  {
   "cell_type": "code",
   "execution_count": 2,
   "metadata": {},
   "outputs": [],
   "source": [
    "test_url = \"https://students.cs.byu.edu/~th443/bbb.mp4\""
   ]
  },
  {
   "cell_type": "markdown",
   "metadata": {},
   "source": [
    "Download the video once to get its frame count:"
   ]
  },
  {
   "cell_type": "code",
   "execution_count": 3,
   "metadata": {},
   "outputs": [],
   "source": [
    "# !wget 'https://students.cs.byu.edu/~th443/bbb.mp4'"
   ]
  },
  {
   "cell_type": "markdown",
   "metadata": {},
   "source": [
    "Nice one-liner from https://stackoverflow.com/questions/2017843/fetch-frame-count-with-ffmpeg:"
   ]
  },
  {
   "cell_type": "code",
   "execution_count": 4,
   "metadata": {},
   "outputs": [],
   "source": [
    "# !ffprobe -v error -select_streams v:0 -show_entries stream=nb_frames -of default=nokey=1:noprint_wrappers=1 -ignore_editlist 1 bbb.mp4"
   ]
  },
  {
   "cell_type": "code",
   "execution_count": 5,
   "metadata": {},
   "outputs": [],
   "source": [
    "frame_count = 19036"
   ]
  },
  {
   "cell_type": "code",
   "execution_count": 6,
   "metadata": {},
   "outputs": [],
   "source": [
    "fps = 30"
   ]
  },
  {
   "cell_type": "code",
   "execution_count": 7,
   "metadata": {},
   "outputs": [
    {
     "data": {
      "text/plain": [
       "10.575555555555555"
      ]
     },
     "execution_count": 7,
     "metadata": {},
     "output_type": "execute_result"
    }
   ],
   "source": [
    "minutes = frame_count / fps / 60\n",
    "minutes"
   ]
  },
  {
   "cell_type": "code",
   "execution_count": 8,
   "metadata": {},
   "outputs": [],
   "source": [
    "mb_count = 276134947 / (1e+6)"
   ]
  },
  {
   "cell_type": "markdown",
   "metadata": {},
   "source": [
    "`frame_size` represents the average MB size of frame:"
   ]
  },
  {
   "cell_type": "code",
   "execution_count": 9,
   "metadata": {},
   "outputs": [
    {
     "data": {
      "text/plain": [
       "0.01450593333683547"
      ]
     },
     "execution_count": 9,
     "metadata": {},
     "output_type": "execute_result"
    }
   ],
   "source": [
    "frame_size = mb_count / frame_count\n",
    "frame_size"
   ]
  },
  {
   "cell_type": "markdown",
   "metadata": {},
   "source": [
    "`second_size` represents the average MB size of a second at 30 FPS--the minimum MB/s required for smooth playback:"
   ]
  },
  {
   "cell_type": "code",
   "execution_count": 10,
   "metadata": {},
   "outputs": [
    {
     "data": {
      "text/plain": [
       "0.4351780001050641"
      ]
     },
     "execution_count": 10,
     "metadata": {},
     "output_type": "execute_result"
    }
   ],
   "source": [
    "second_size = frame_size * fps\n",
    "second_size"
   ]
  },
  {
   "cell_type": "code",
   "execution_count": 11,
   "metadata": {},
   "outputs": [],
   "source": [
    "process_count = 3"
   ]
  },
  {
   "cell_type": "code",
   "execution_count": 12,
   "metadata": {},
   "outputs": [],
   "source": [
    "mbps_queue = Queue()\n",
    "mbps_percent_queue = Queue()\n",
    "\n",
    "def download_measure(i):\n",
    "    global mbps_list\n",
    "    response = requests.get(test_url, stream=True)\n",
    "    total_length = response.headers.get('content-length')\n",
    "\n",
    "    start = time.time()\n",
    "    dl = 0\n",
    "    total_length = int(total_length)\n",
    "    last_print_time = 0\n",
    "    for data in response.iter_content(chunk_size=1024):\n",
    "        dl += len(data)\n",
    "        done = int(50 * dl / total_length)\n",
    "        dl_mb = dl/(1e+6)\n",
    "        if time.time() - last_print_time > 0.2:\n",
    "            last_print_time = time.time()\n",
    "            mbps_percent_queue.put((i, dl/total_length))\n",
    "        \n",
    "    elapsed = time.time() - start\n",
    "    mbps_queue.put((total_length/1e+6)/elapsed)"
   ]
  },
  {
   "cell_type": "code",
   "execution_count": 13,
   "metadata": {},
   "outputs": [],
   "source": [
    "processes = [Process(target=download_measure, args=(i,)) for i in range(process_count)]"
   ]
  },
  {
   "cell_type": "code",
   "execution_count": 14,
   "metadata": {},
   "outputs": [],
   "source": [
    "progress_bars = [widgets.FloatProgress(\n",
    "                        value=0,\n",
    "                        min=0,\n",
    "                        max=1,\n",
    "                        step=0.1,\n",
    "                        description=f'{i} (0%):',\n",
    "                        bar_style='info',\n",
    "                        orientation='horizontal'\n",
    "                     )\n",
    "                    for i in range(process_count)\n",
    "                ]"
   ]
  },
  {
   "cell_type": "code",
   "execution_count": 15,
   "metadata": {},
   "outputs": [],
   "source": [
    "def print_progress(): \n",
    "    try:\n",
    "        progress_outputs = sorted([mbps_percent_queue.get(timeout=.2) for _ in processes], key=lambda a: a[0] if a else 0)\n",
    "        for p in filter(lambda p: p, progress_outputs):\n",
    "            progress_bars[p[0]].value = p[1]\n",
    "            progress_bars[p[0]].description = f\"{p[0]} ({'{:.2f}'.format(round(p[1] * 10000)/100)}%)\"\n",
    "    except Empty:\n",
    "        pass"
   ]
  },
  {
   "cell_type": "code",
   "execution_count": 16,
   "metadata": {},
   "outputs": [
    {
     "data": {
      "application/vnd.jupyter.widget-view+json": {
       "model_id": "d9ebb86b8a4d4392901ec66a35074025",
       "version_major": 2,
       "version_minor": 0
      },
      "text/plain": [
       "FloatProgress(value=0.0, bar_style='info', description='0 (0%):', max=1.0)"
      ]
     },
     "metadata": {},
     "output_type": "display_data"
    },
    {
     "data": {
      "application/vnd.jupyter.widget-view+json": {
       "model_id": "2ee30516e61b43f689e6112bee5ac722",
       "version_major": 2,
       "version_minor": 0
      },
      "text/plain": [
       "FloatProgress(value=0.0, bar_style='info', description='1 (0%):', max=1.0)"
      ]
     },
     "metadata": {},
     "output_type": "display_data"
    },
    {
     "data": {
      "application/vnd.jupyter.widget-view+json": {
       "model_id": "02225d7dbc344cd395ddf7971e8268e2",
       "version_major": 2,
       "version_minor": 0
      },
      "text/plain": [
       "FloatProgress(value=0.0, bar_style='info', description='2 (0%):', max=1.0)"
      ]
     },
     "metadata": {},
     "output_type": "display_data"
    }
   ],
   "source": [
    "for p in processes:\n",
    "    p.start()\n",
    "\n",
    "[display(b) for b in progress_bars]\n",
    "    \n",
    "while True in [p.is_alive() for p in processes]:\n",
    "    print_progress()"
   ]
  },
  {
   "cell_type": "code",
   "execution_count": 17,
   "metadata": {},
   "outputs": [
    {
     "data": {
      "text/plain": [
       "[40.189824971798544, 39.64370020887117, 39.05855481245061]"
      ]
     },
     "execution_count": 17,
     "metadata": {},
     "output_type": "execute_result"
    }
   ],
   "source": [
    "mbps_averages = [mbps_queue.get() for p in processes]\n",
    "mbps_averages"
   ]
  },
  {
   "cell_type": "code",
   "execution_count": 18,
   "metadata": {},
   "outputs": [
    {
     "data": {
      "text/plain": [
       "39.630693331040106"
      ]
     },
     "execution_count": 18,
     "metadata": {},
     "output_type": "execute_result"
    }
   ],
   "source": [
    "mbps_average = np.average(mbps_averages)\n",
    "mbps_average"
   ]
  },
  {
   "cell_type": "code",
   "execution_count": 19,
   "metadata": {},
   "outputs": [
    {
     "data": {
      "text/plain": [
       "0.010980832368234595"
      ]
     },
     "execution_count": 19,
     "metadata": {},
     "output_type": "execute_result"
    }
   ],
   "source": [
    "relative_length_ratio = second_size / mbps_average\n",
    "relative_length_ratio"
   ]
  },
  {
   "cell_type": "code",
   "execution_count": 20,
   "metadata": {},
   "outputs": [
    {
     "data": {
      "text/plain": [
       "-0.9890191676317655"
      ]
     },
     "execution_count": 20,
     "metadata": {},
     "output_type": "execute_result"
    }
   ],
   "source": [
    "extra_length_proportion = relative_length_ratio - 1\n",
    "extra_length_proportion"
   ]
  },
  {
   "cell_type": "code",
   "execution_count": 21,
   "metadata": {},
   "outputs": [
    {
     "data": {
      "text/plain": [
       "-10.459427152799048"
      ]
     },
     "execution_count": 21,
     "metadata": {},
     "output_type": "execute_result"
    }
   ],
   "source": [
    "minutes_spent_buffering = extra_length_proportion * minutes\n",
    "minutes_spent_buffering"
   ]
  },
  {
   "cell_type": "markdown",
   "metadata": {},
   "source": [
    "I got 24 minutes of buffering on a 5 MB/s connection for a 12 minute video. If this is accurate, this means I would spend twice as much time as the length of the original video just waiting for it to load--as long as there are also 3 other people streaming it."
   ]
  },
  {
   "cell_type": "markdown",
   "metadata": {},
   "source": [
    "### Potential improvements:\n",
    "\n",
    "- Find multiple different video sources with different latencies, throughputs, and bitrates\n",
    "- Figure out how to do this test continuously"
   ]
  }
 ],
 "metadata": {
  "kernelspec": {
   "display_name": "Python 3",
   "language": "python",
   "name": "python3"
  },
  "language_info": {
   "codemirror_mode": {
    "name": "ipython",
    "version": 3
   },
   "file_extension": ".py",
   "mimetype": "text/x-python",
   "name": "python",
   "nbconvert_exporter": "python",
   "pygments_lexer": "ipython3",
   "version": "3.8.0"
  }
 },
 "nbformat": 4,
 "nbformat_minor": 4
}
